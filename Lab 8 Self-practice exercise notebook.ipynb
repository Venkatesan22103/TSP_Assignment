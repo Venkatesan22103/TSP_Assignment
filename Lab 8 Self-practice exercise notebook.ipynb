{
 "cells": [
  {
   "cell_type": "markdown",
   "id": "b4e600c4",
   "metadata": {},
   "source": [
    "## EDUNET FOUNDATION - Self-Practice Exercise Notebook"
   ]
  },
  {
   "cell_type": "markdown",
   "id": "dd2dfbc4",
   "metadata": {},
   "source": [
    "### LAB 8 - Implementing Numpy Concepts in Python"
   ]
  },
  {
   "cell_type": "markdown",
   "id": "b5f9df87",
   "metadata": {},
   "source": [
    "Problem 1: Write a NumPy program to test whether none of the elements of a given array are zero."
   ]
  },
  {
   "cell_type": "code",
   "execution_count": 4,
   "id": "ddfc9f44",
   "metadata": {},
   "outputs": [
    {
     "name": "stdout",
     "output_type": "stream",
     "text": [
      "0 1 2 \n",
      "False\n"
     ]
    }
   ],
   "source": [
    "import numpy as np\n",
    "a = np.array(list(map(int,input().split())))\n",
    "print(np.all(a != 0))\n",
    "    "
   ]
  },
  {
   "cell_type": "markdown",
   "id": "5cb2180d",
   "metadata": {},
   "source": [
    "Problem 2: Write a NumPy program to create an array of 10 zeros, 10 ones, and 10 fives. "
   ]
  },
  {
   "cell_type": "code",
   "execution_count": 7,
   "id": "dac95c08",
   "metadata": {},
   "outputs": [
    {
     "data": {
      "text/plain": [
       "array([0, 0, 0, 0, 0, 0, 0, 0, 0, 0, 1, 1, 1, 1, 1, 1, 1, 1, 1, 1, 5, 5,\n",
       "       5, 5, 5, 5, 5, 5, 5, 5, 5, 5, 5, 5, 5, 5, 5, 5, 5, 5])"
      ]
     },
     "execution_count": 7,
     "metadata": {},
     "output_type": "execute_result"
    }
   ],
   "source": [
    "np.array([0]*10+[1]*10+[5]*20)"
   ]
  },
  {
   "cell_type": "markdown",
   "id": "641433cc",
   "metadata": {},
   "source": [
    "Problem 3: Write a NumPy program to generate an array of 15 random numbers from a standard normal distribution."
   ]
  },
  {
   "cell_type": "code",
   "execution_count": 8,
   "id": "1201a468",
   "metadata": {},
   "outputs": [
    {
     "name": "stdout",
     "output_type": "stream",
     "text": [
      "[-1.32331409 -0.56193595  0.68008573  1.99899885  0.18613847 -0.10847903\n",
      " -0.90244717 -0.42515232  0.51931212  0.58974693  0.67080263 -0.08496469\n",
      "  1.25093176  0.8454227  -0.52625292]\n"
     ]
    }
   ],
   "source": [
    "a = np.random.randn(15)\n",
    "print(a)"
   ]
  },
  {
   "cell_type": "markdown",
   "id": "c56b6ea5",
   "metadata": {},
   "source": [
    "Problem 4: Write a NumPy program to create a two-dimensional array with shape (8,5) of random numbers. Select random numbers from a normal distribution (200,7)."
   ]
  },
  {
   "cell_type": "code",
   "execution_count": 9,
   "id": "52d3c565",
   "metadata": {},
   "outputs": [
    {
     "name": "stdout",
     "output_type": "stream",
     "text": [
      "[[192.35026348 202.26097954 208.65469828 189.32697335 203.09513304]\n",
      " [202.08796589 195.05759237 204.76551878 212.30392026 198.95329816]\n",
      " [190.08870761 194.46244345 202.4352901  208.7339693  192.39983164]\n",
      " [202.3963613  206.93375529 204.5800057  186.73084849 198.52128365]\n",
      " [204.72953335 205.61646237 213.10885298 195.8942631  207.07044337]\n",
      " [198.95494636 196.12964445 206.65799719 203.54922804 213.60863796]\n",
      " [190.97012826 196.27267031 192.84019552 195.22085249 201.03251809]\n",
      " [207.92598347 189.80623435 208.91934424 202.65596176 202.53342779]]\n"
     ]
    }
   ],
   "source": [
    "arr = np.random.normal(200, 7, (8, 5))\n",
    "print(arr)"
   ]
  },
  {
   "cell_type": "markdown",
   "id": "ca7a2c4e",
   "metadata": {},
   "source": [
    "Problem 5: Write a NumPy program to create a 4x4 array. Create an array from said array by swapping first and last, second and third columns."
   ]
  },
  {
   "cell_type": "code",
   "execution_count": 12,
   "id": "8e635d32",
   "metadata": {},
   "outputs": [
    {
     "data": {
      "text/plain": [
       "array([[13, 14, 15, 16],\n",
       "       [ 9, 10, 11, 12],\n",
       "       [ 9, 10, 11, 12],\n",
       "       [13, 14, 15, 16]])"
      ]
     },
     "execution_count": 12,
     "metadata": {},
     "output_type": "execute_result"
    }
   ],
   "source": [
    "a = np.array([[1,2,3,4],[5,6,7,8],[9,10,11,12],[13,14,15,16]])\n",
    "a[0],a[3] = a[3],a[0]\n",
    "a[1],a[2] = a[2],a[1]\n",
    "a"
   ]
  },
  {
   "cell_type": "markdown",
   "id": "1fb7f9c2",
   "metadata": {},
   "source": [
    "Problem 6: Write a NumPy program to swap rows and columns of a given array in reverse order."
   ]
  },
  {
   "cell_type": "code",
   "execution_count": 16,
   "id": "2f4a4a06",
   "metadata": {},
   "outputs": [
    {
     "data": {
      "text/plain": [
       "array([[16, 15, 14, 13],\n",
       "       [12, 11, 10,  9],\n",
       "       [ 8,  7,  6,  5],\n",
       "       [ 4,  3,  2,  1]])"
      ]
     },
     "execution_count": 16,
     "metadata": {},
     "output_type": "execute_result"
    }
   ],
   "source": [
    "a = np.array([[1,2,3,4],[5,6,7,8],[9,10,11,12],[13,14,15,16]])\n",
    "a = a[::-1,::-1]\n",
    "a"
   ]
  },
  {
   "cell_type": "markdown",
   "id": "cbbd24af",
   "metadata": {},
   "source": [
    "Problem 7: Write a NumPy program to multiply two given arrays of the same size element-by-element."
   ]
  },
  {
   "cell_type": "code",
   "execution_count": 17,
   "id": "589c9634",
   "metadata": {},
   "outputs": [
    {
     "data": {
      "text/plain": [
       "array([ 3,  4,  3, 20])"
      ]
     },
     "execution_count": 17,
     "metadata": {},
     "output_type": "execute_result"
    }
   ],
   "source": [
    "a = np.array([1,2,3,4])\n",
    "b = np.array([3,2,1,5])\n",
    "a*b"
   ]
  },
  {
   "cell_type": "markdown",
   "id": "6cf39aee",
   "metadata": {},
   "source": [
    "Problem 8: Write a NumPy program to create a 3x3 matrix with values ranging from 2 to 10."
   ]
  },
  {
   "cell_type": "code",
   "execution_count": 19,
   "id": "e5a3ded8",
   "metadata": {},
   "outputs": [
    {
     "data": {
      "text/plain": [
       "array([[ 2,  3,  4],\n",
       "       [ 5,  6,  7],\n",
       "       [ 8,  9, 10]])"
      ]
     },
     "execution_count": 19,
     "metadata": {},
     "output_type": "execute_result"
    }
   ],
   "source": [
    "np.arange(2, 11).reshape(3,3)"
   ]
  },
  {
   "cell_type": "markdown",
   "id": "19e0b19e",
   "metadata": {},
   "source": [
    "Problem 9: Write a NumPy program to create a 3x3x3 array with random values.\n",
    "Expected Output:\n",
    "\n",
    "[[[ 0.48941799 0.58722213 0.43453926]\n",
    "[ 0.94497547 0.81081709 0.1510409 ]\n",
    "[ 0.66657127 0.29494755 0.48047144]]\n",
    "[[ 0.02287253 0.95232614 0.32264936]\n",
    "[ 0.67009741 0.25458304 0.16290913]\n",
    "[ 0.15520198 0.86826529 0.9679322 ]]\n",
    "[[ 0.13503103 0.02042211 0.24683897]\n",
    "[ 0.97852158 0.22374748 0.10798856]\n",
    "[ 0.62032646 0.5893892 0.16958144]]]"
   ]
  },
  {
   "cell_type": "code",
   "execution_count": 23,
   "id": "79cf0fe9",
   "metadata": {},
   "outputs": [
    {
     "name": "stdout",
     "output_type": "stream",
     "text": [
      "[[[0.40029801 0.36313682 0.0224652 ]\n",
      "  [0.78987402 0.99529936 0.64315452]\n",
      "  [0.0913036  0.76181513 0.76141953]]\n",
      "\n",
      " [[0.29668106 0.09283095 0.70603639]\n",
      "  [0.42145386 0.95292587 0.93053855]\n",
      "  [0.47366699 0.32316424 0.39656727]]\n",
      "\n",
      " [[0.51952926 0.19966152 0.55957081]\n",
      "  [0.15557692 0.22151773 0.82809399]\n",
      "  [0.0646046  0.29811728 0.45745961]]]\n"
     ]
    }
   ],
   "source": [
    "arr = np.random.rand(3, 3, 3)\n",
    "\n",
    "print(arr)"
   ]
  },
  {
   "cell_type": "markdown",
   "id": "5eedd75f",
   "metadata": {},
   "source": [
    "Problem 10: Write a Python program to find the maximum and minimum value of a given flattened array."
   ]
  },
  {
   "cell_type": "code",
   "execution_count": 24,
   "id": "a2cd1c74",
   "metadata": {},
   "outputs": [
    {
     "name": "stdout",
     "output_type": "stream",
     "text": [
      "min: 1\n",
      "max: 6\n"
     ]
    }
   ],
   "source": [
    "a = np.array([[1, 2, 3], [4, 5, 6]])\n",
    "print(\"min:\",np.min(a))\n",
    "print(\"max:\",np.max(a))"
   ]
  },
  {
   "cell_type": "markdown",
   "id": "b5c4f4cd",
   "metadata": {},
   "source": [
    "Problem 11: Write a NumPy program to add, subtract, multiply, divide arguments element-wise.     \n",
    "Expected Output:\n",
    "Add:\n",
    "5.0\n",
    "Subtract:\n",
    "-3.0\n",
    "Multiply:\n",
    "4.0\n",
    "Divide:\n",
    "0.25"
   ]
  },
  {
   "cell_type": "code",
   "execution_count": 30,
   "id": "7abb55eb",
   "metadata": {},
   "outputs": [
    {
     "name": "stdout",
     "output_type": "stream",
     "text": [
      "Add: [13 24 16]\n",
      "Subtract: [-11 -20 -10]\n",
      "Multiply: [12 44 39]\n",
      "Divide: [0.08333333 0.09090909 0.23076923]\n"
     ]
    }
   ],
   "source": [
    "arr1 = np.array([1, 2, 3])\n",
    "arr2 = np.array([12, 22, 13])\n",
    "add_result = arr1 + arr2\n",
    "subtract_result = arr1 - arr2\n",
    "multiply_result = arr1 * arr2\n",
    "divide_result = arr1 / arr2\n",
    "\n",
    "print(\"Add:\", add_result)\n",
    "print(\"Subtract:\", subtract_result)\n",
    "print(\"Multiply:\", multiply_result)\n",
    "print(\"Divide:\", divide_result)"
   ]
  },
  {
   "cell_type": "markdown",
   "id": "6142d18f",
   "metadata": {},
   "source": [
    "Problem 12: Write a NumPy program to get the powers of an array values element-wise.\n",
    "Note: First array elements raised to powers from second array\n",
    "Expected Output:\n",
    "Original array\n",
    "[0 1 2 3 4 5 6]\n",
    "First array elements raised to powers from second array, element-wise:\n",
    "[ 0 1 8 27 64 125 216]"
   ]
  },
  {
   "cell_type": "code",
   "execution_count": 32,
   "id": "378b4264",
   "metadata": {},
   "outputs": [
    {
     "data": {
      "text/plain": [
       "array([ 0,  1,  4,  9, 16, 25, 36])"
      ]
     },
     "execution_count": 32,
     "metadata": {},
     "output_type": "execute_result"
    }
   ],
   "source": [
    "c = np.array([0,1,2,3,4,5,6])\n",
    "c**2"
   ]
  },
  {
   "cell_type": "markdown",
   "id": "573449c4",
   "metadata": {},
   "source": [
    "Problem 13: Create a Python project to guess a number that has randomly selected."
   ]
  },
  {
   "cell_type": "code",
   "execution_count": 34,
   "id": "da7953e7",
   "metadata": {},
   "outputs": [
    {
     "name": "stdout",
     "output_type": "stream",
     "text": [
      "Guess Number:12\n",
      "Guess is Low\n",
      "Guess Number:50\n",
      "Guess is Low\n",
      "Guess Number:100\n",
      "Guess is High\n",
      "You loose\n"
     ]
    }
   ],
   "source": [
    "import random as rand\n",
    "x = rand.randint(1, 100)\n",
    "i= 0\n",
    "r = 0\n",
    "while(i < 3):\n",
    "    d = int(input(\"Guess Number:\"))\n",
    "    if(x == d):\n",
    "        print(f\"You Win With {(3-i)*10} Score\")\n",
    "        r= 1\n",
    "        break\n",
    "    elif(x<d):\n",
    "        print(\"Guess is High\")\n",
    "    elif(x>d):\n",
    "        print(\"Guess is Low\")\n",
    "    i+=1\n",
    "if(r == 0):\n",
    "    print(\"You loose\")"
   ]
  },
  {
   "cell_type": "markdown",
   "id": "0cb06864",
   "metadata": {},
   "source": [
    "Problem 14: Write a NumPy program to create a 2D array with 1 on the border and 0 inside.        \n",
    "Expected Output:\n",
    "Original array:\n",
    "[[ 1. 1. 1. 1. 1.]\n",
    "...................\n",
    "[ 1. 1. 1. 1. 1.]]\n",
    "1 on the border and 0 inside in the array\n",
    "[[ 1. 1. 1. 1. 1.]\n",
    "...................\n",
    "[ 1. 1. 1. 1. 1.]]"
   ]
  },
  {
   "cell_type": "code",
   "execution_count": 43,
   "id": "9be6a28d",
   "metadata": {},
   "outputs": [
    {
     "name": "stdout",
     "output_type": "stream",
     "text": [
      "6\n"
     ]
    },
    {
     "data": {
      "text/plain": [
       "array([[1., 1., 1., 1., 1., 1.],\n",
       "       [1., 0., 0., 0., 0., 1.],\n",
       "       [1., 0., 0., 0., 0., 1.],\n",
       "       [1., 0., 0., 0., 0., 1.],\n",
       "       [1., 0., 0., 0., 0., 1.],\n",
       "       [1., 1., 1., 1., 1., 1.]])"
      ]
     },
     "execution_count": 43,
     "metadata": {},
     "output_type": "execute_result"
    }
   ],
   "source": [
    "n = int(input())\n",
    "d = np.zeros((n,n))\n",
    "d[0,:] = 1\n",
    "d[n-1,:] = 1\n",
    "d[:,0] = 1\n",
    "d[:,n-1] = 1\n",
    "d"
   ]
  },
  {
   "cell_type": "markdown",
   "id": "df606ce3",
   "metadata": {},
   "source": [
    "Problem 15: Write a NumPy program to append values to the end of an array.                      \n",
    "Expected Output:\n",
    "Original array:\n",
    "[10, 20, 30]\n",
    "After append values to the end of the array:\n",
    "[10 20 30 40 50 60 70 80 90]"
   ]
  },
  {
   "cell_type": "code",
   "execution_count": 47,
   "id": "e5f35c49",
   "metadata": {},
   "outputs": [
    {
     "name": "stdout",
     "output_type": "stream",
     "text": [
      "1 2 3 4\n",
      "8 7 6\n"
     ]
    },
    {
     "data": {
      "text/plain": [
       "array([1, 2, 3, 4, 8, 7, 6])"
      ]
     },
     "execution_count": 47,
     "metadata": {},
     "output_type": "execute_result"
    }
   ],
   "source": [
    "d = np.array(list(map(int,input().split())))\n",
    "np.append(d,np.array(list(map(int,input().split()))))\n"
   ]
  }
 ],
 "metadata": {
  "kernelspec": {
   "display_name": "Python 3 (ipykernel)",
   "language": "python",
   "name": "python3"
  },
  "language_info": {
   "codemirror_mode": {
    "name": "ipython",
    "version": 3
   },
   "file_extension": ".py",
   "mimetype": "text/x-python",
   "name": "python",
   "nbconvert_exporter": "python",
   "pygments_lexer": "ipython3",
   "version": "3.9.13"
  }
 },
 "nbformat": 4,
 "nbformat_minor": 5
}
