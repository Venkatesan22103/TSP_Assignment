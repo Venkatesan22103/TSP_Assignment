{
 "cells": [
  {
   "cell_type": "markdown",
   "id": "ad8defec",
   "metadata": {},
   "source": [
    "# EDUNET FOUNDATION - Self-Practice Exercise Notebook "
   ]
  },
  {
   "cell_type": "markdown",
   "id": "f60716a9",
   "metadata": {},
   "source": [
    "# LAB 7- Python Connection with Database"
   ]
  },
  {
   "cell_type": "markdown",
   "id": "ebbaa7eb",
   "metadata": {},
   "source": [
    "Problem 1 create a table named EMPLOYEE in MySQL with five columns namely, FIRST_NAME,AGE, SEX and, INCOME."
   ]
  },
  {
   "cell_type": "code",
   "execution_count": 16,
   "id": "58334278",
   "metadata": {},
   "outputs": [
    {
     "data": {
      "text/plain": [
       "<sqlite3.Cursor at 0x20a715955e0>"
      ]
     },
     "execution_count": 16,
     "metadata": {},
     "output_type": "execute_result"
    }
   ],
   "source": [
    "import sqlite3 as sql\n",
    "a= sql.connect(\"a.db\")\n",
    "c = a.cursor()\n",
    "\n",
    "c.execute(\"create table EMPLOYEE(FIRST_NAME varchar(25),AGE int, SEX varchar(1), INCOME int)\")\n"
   ]
  },
  {
   "cell_type": "markdown",
   "id": "0a1edf64",
   "metadata": {},
   "source": [
    "Problem 2: Display created table using SELECT"
   ]
  },
  {
   "cell_type": "code",
   "execution_count": 17,
   "id": "5a696aa2",
   "metadata": {},
   "outputs": [
    {
     "name": "stdout",
     "output_type": "stream",
     "text": [
      "('KARTHIK', 21, 'M', 21000)\n"
     ]
    }
   ],
   "source": [
    "c.execute(\"INSERT INTO EMPLOYEE values('KARTHIK',21,'M',21000)\")\n",
    "c.execute(\"SELECT * FROM EMPLOYEE;\")\n",
    "m  = c.fetchall()\n",
    "for i in m:\n",
    "    print(i)"
   ]
  },
  {
   "cell_type": "markdown",
   "id": "9adf65df",
   "metadata": {},
   "source": [
    "Problem 3:Write a MySQL statement which retrieves the records of the employees whose income is greater than 4000."
   ]
  },
  {
   "cell_type": "code",
   "execution_count": 18,
   "id": "669ba6e6",
   "metadata": {},
   "outputs": [
    {
     "name": "stdout",
     "output_type": "stream",
     "text": [
      "('KARTHIK', 21, 'M', 21000)\n",
      "('Varun', 21, 'M', 23000)\n"
     ]
    }
   ],
   "source": [
    "c.execute(\"INSERT INTO EMPLOYEE values('Arun',21,'M',3000)\")\n",
    "c.execute(\"INSERT INTO EMPLOYEE values('Varun',21,'M',23000)\")\n",
    "c.execute(\"SELECT * FROM EMPLOYEE WHERE INCOME > 4000;\")\n",
    "m  = c.fetchall()\n",
    "for i in m:\n",
    "    print(i)"
   ]
  }
 ],
 "metadata": {
  "kernelspec": {
   "display_name": "Python 3 (ipykernel)",
   "language": "python",
   "name": "python3"
  },
  "language_info": {
   "codemirror_mode": {
    "name": "ipython",
    "version": 3
   },
   "file_extension": ".py",
   "mimetype": "text/x-python",
   "name": "python",
   "nbconvert_exporter": "python",
   "pygments_lexer": "ipython3",
   "version": "3.9.13"
  }
 },
 "nbformat": 4,
 "nbformat_minor": 5
}
